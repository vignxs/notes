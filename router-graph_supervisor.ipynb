{
  "cells": [
    {
      "cell_type": "markdown",
      "metadata": {
        "id": "hRZ7eoekpsMc"
      },
      "source": [
        "# 03. Learning LangGraph - Agent Supervisor"
      ]
    },
    {
      "cell_type": "code",
      "execution_count": 2,
      "metadata": {
        "colab": {
          "base_uri": "https://localhost:8080/"
        },
        "id": "AAoQEqlXGrWi",
        "outputId": "1b43d9dd-38c3-4005-c91e-585f58e51d24"
      },
      "outputs": [
        {
          "name": "stderr",
          "output_type": "stream",
          "text": [
            "WARNING: You are using pip version 20.2.3; however, version 24.0 is available.\n",
            "You should consider upgrading via the 'c:\\users\\hrint\\documents\\ai-poc's\\ai\\scripts\\python.exe -m pip install --upgrade pip' command.\n"
          ]
        }
      ],
      "source": [
        "!pip install --quiet -U langchain langchain_openai langgraph langchainhub langchain_experimental"
      ]
    },
    {
      "cell_type": "code",
      "execution_count": 3,
      "metadata": {
        "id": "guac0Zh7Gz4Q"
      },
      "outputs": [],
      "source": []
    },
    {
      "cell_type": "code",
      "execution_count": 4,
      "metadata": {
        "id": "58MBHiikkQDb"
      },
      "outputs": [],
      "source": [
        "from langchain_openai import ChatOpenAI\n",
        "\n",
        "llm = ChatOpenAI(model=\"gpt-4-1106-preview\")"
      ]
    },
    {
      "cell_type": "code",
      "execution_count": 5,
      "metadata": {
        "id": "OLeIVeaEJltj"
      },
      "outputs": [],
      "source": [
        "from langchain_core.tools import tool\n",
        "\n",
        "\n",
        "# dummy output\n",
        "spglobal_desc = \"\"\"The annual return of the S&P 500 index can vary significantly from year to year, reflecting the performance of the 500 largest companies listed on stock exchanges in the United States. Historically, the average annual return of the S&P 500, including dividends, has been around 7-10% after adjusting for inflation. However, this average includes periods of significant growth as well as periods of decline.\\n\\nTo give you a specific figure for a particular year, I would need the year in question. Since my knowledge is up to date only until early 2023, I can provide information up until the end of 2022. For example, the annual return for the S&P 500 in 2021 was approximately 26.89%, which was an exceptional year for the index.\\n\\nFor the most current annual return figures, you would need to look up the latest financial data or consult financial news sources that provide updates on the S&P 500's performance. Keep in mind that past performance is not indicative of future results, and investing in the stock market always carries risk.\"\"\"\n",
        "\n",
        "\n",
        "@tool(\"simple_retriever\")\n",
        "def simple_retrieval_tool(input: str) -> str:\n",
        "    \"\"\"Returns the answer based on a single document\"\"\"\n",
        "    return spglobal_desc\n",
        "\n",
        "\n",
        "@tool(\"multi_doc_retriever\" )\n",
        "def multi_doc_retrieval_tool(input: str) -> str:\n",
        "    \"\"\"Returns the answer based on information from multiple documents\"\"\"\n",
        "    return spglobal_desc\n",
        "\n",
        "\n",
        "tools = [simple_retrieval_tool, multi_doc_retrieval_tool]"
      ]
    },
    {
      "cell_type": "code",
      "execution_count": 6,
      "metadata": {
        "id": "DJMQ7KlEQ3CW"
      },
      "outputs": [],
      "source": [
        "from langchain.agents import AgentExecutor, create_openai_tools_agent\n",
        "from langchain_core.messages import BaseMessage, HumanMessage\n",
        "from langchain_openai import ChatOpenAI\n",
        "\n",
        "def create_agent(llm: ChatOpenAI, tools: list, system_prompt: str):\n",
        "    # Each worker node will be given a name and some tools.\n",
        "    prompt = ChatPromptTemplate.from_messages(\n",
        "        [\n",
        "            (\n",
        "                \"system\",\n",
        "                system_prompt,\n",
        "            ),\n",
        "            MessagesPlaceholder(variable_name=\"messages\"),\n",
        "            MessagesPlaceholder(variable_name=\"agent_scratchpad\"),\n",
        "        ]\n",
        "    )\n",
        "    agent = create_openai_tools_agent(llm, tools, prompt)\n",
        "    executor = AgentExecutor(agent=agent, tools=tools)\n",
        "    return executor"
      ]
    },
    {
      "cell_type": "code",
      "execution_count": 7,
      "metadata": {
        "id": "5dZEnkhVQ3IG"
      },
      "outputs": [],
      "source": [
        "# agent node\n",
        "def agent_node(state, agent, name):\n",
        "    result = agent.invoke(state)\n",
        "    return {\"messages\": [HumanMessage(content=result[\"output\"], name=name)]}"
      ]
    },
    {
      "cell_type": "code",
      "execution_count": 15,
      "metadata": {
        "id": "58_Va-0WROGY"
      },
      "outputs": [],
      "source": [
        "from langchain.output_parsers.openai_functions import JsonOutputFunctionsParser\n",
        "from langchain_core.prompts import ChatPromptTemplate, MessagesPlaceholder\n",
        "\n",
        "members = [\n",
        "    'simple_retriever', 'multi_doc_retriever']\n",
        "system_prompt = (\n",
        "    \"You are a supervisor tasked with managing a conversation between the\"\n",
        "    \" following workers:  {members}. Given the following user request,\"\n",
        "    \"for one question you should only one and return the output directly\"\n",
        "    \"do not call the same tool again.\"\n",
        "    \" respond with the worker to act next. Each worker will perform a\"\n",
        "    \" task and respond with their results and status. When finished,\"\n",
        "    \" respond with FINISH.\"\n",
        ")\n",
        "# Our team supervisor is an LLM node. It just picks the next agent to process\n",
        "# and decides when the work is completed\n",
        "options = [\"FINISH\"] + members\n",
        "# Using openai function calling can make output parsing easier for us\n",
        "function_def = {\n",
        "    \"name\": \"route\",\n",
        "    \"description\": \"Select the next role.\",\n",
        "    \"parameters\": {\n",
        "        \"title\": \"routeSchema\",\n",
        "        \"type\": \"object\",\n",
        "        \"properties\": {\n",
        "            \"next\": {\n",
        "                \"title\": \"Next\",\n",
        "                \"anyOf\": [\n",
        "                    {\"enum\": options},\n",
        "                ],\n",
        "            }\n",
        "        },\n",
        "        \"required\": [\"next\"],\n",
        "    },\n",
        "}\n",
        "prompt = ChatPromptTemplate.from_messages(\n",
        "    [\n",
        "        (\"system\", system_prompt),\n",
        "        MessagesPlaceholder(variable_name=\"messages\"),\n",
        "        (\n",
        "            \"system\",\n",
        "            \"Given the conversation above, who should act next?\"\n",
        "            \" Or should we FINISH? Select one of: {options}\",\n",
        "        ),\n",
        "    ]\n",
        ").partial(options=str(options), members=\", \".join(members))\n",
        "\n",
        "\n",
        "supervisor_chain = (\n",
        "    prompt\n",
        "    | llm.bind_functions(functions=[function_def], function_call=\"route\")\n",
        "    | JsonOutputFunctionsParser()\n",
        ")"
      ]
    },
    {
      "cell_type": "code",
      "execution_count": 22,
      "metadata": {
        "id": "7m3VoyjkRh8n"
      },
      "outputs": [],
      "source": [
        "import operator\n",
        "from typing import Annotated, Sequence, TypedDict\n",
        "import functools\n",
        "from langgraph.graph import StateGraph, END\n",
        "\n",
        "\n",
        "# The agent state is the input to each node in the graph\n",
        "class AgentState(TypedDict):\n",
        "    # The annotation tells the graph that new messages will always\n",
        "    # be added to the current states\n",
        "    messages: Annotated[Sequence[BaseMessage], operator.add]\n",
        "    # The 'next' field indicates where to route to next\n",
        "    next: str\n",
        "\n",
        "\n",
        "simple_retriever_agent = create_agent(\n",
        "    llm, [simple_retrieval_tool], \"You are a single-source analyst. You provide answers based on a single document.\")\n",
        "simple_retriever_node = functools.partial(\n",
        "    agent_node, agent=simple_retriever_agent, name=\"simple_retriever\")\n",
        "\n",
        "multi_doc_retriever_agent = create_agent(\n",
        "    llm, [multi_doc_retrieval_tool], \"You are a multi-source analyst. You provide answers based  on information from multiple documents.\")\n",
        "multi_doc_retriever_node = functools.partial(\n",
        "    \n",
        "    agent_node, agent=multi_doc_retriever_agent, name=\"multi_doc_retriever\")\n",
        "\n",
        "workflow = StateGraph(AgentState)\n",
        "workflow.add_node(\"simple_retriever\", simple_retriever_node)\n",
        "workflow.add_node(\"multi_doc_retriever\", multi_doc_retriever_node)\n",
        "workflow.add_node(\"supervisor\", supervisor_chain)"
      ]
    },
    {
      "cell_type": "code",
      "execution_count": 23,
      "metadata": {
        "id": "S08LYZI9Rh_P"
      },
      "outputs": [],
      "source": [
        "for member in members:\n",
        "    # We want our workers to ALWAYS \"report back\" to the supervisor when done\n",
        "    workflow.add_edge(member, \"supervisor\") # add one edge for each of the agents\n",
        "\n",
        "# The supervisor populates the \"next\" field in the graph state\n",
        "# which routes to a node or finishes\n",
        "conditional_map = {k: k for k in members}\n",
        "conditional_map[\"FINISH\"] = END\n",
        "workflow.add_conditional_edges(\"supervisor\", lambda x: x[\"next\"], conditional_map)\n",
        "# Finally, add entrypoint\n",
        "workflow.set_entry_point(\"supervisor\")\n",
        "\n",
        "graph = workflow.compile()"
      ]
    },
    {
      "cell_type": "code",
      "execution_count": 24,
      "metadata": {},
      "outputs": [
        {
          "data": {
            "text/plain": [
              "{'messages': [HumanMessage(content='what is a S&P 500 index retruns?'),\n",
              "  HumanMessage(content='The S&P 500 index returns can vary significantly from year to year, reflecting the performance of the 500 largest companies listed on stock exchanges in the United States. Historically, the average annual return of the S&P 500, including dividends, has been around 7-10% after adjusting for inflation. This average includes periods of significant growth as well as periods of decline.\\n\\nFor example, the annual return for the S&P 500 in 2021 was approximately 26.89%. However, please note that to get the most current annual return figures, you would need to consult the latest financial data or financial news sources. Past performance is not indicative of future results, and investing in the stock market always carries risk.', name='simple_retriever')],\n",
              " 'next': 'FINISH'}"
            ]
          },
          "execution_count": 24,
          "metadata": {},
          "output_type": "execute_result"
        }
      ],
      "source": [
        "final_response = graph.invoke(\n",
        "    {\n",
        "        \"messages\": [\n",
        "            HumanMessage(\n",
        "                content=\"what is a S&P 500 index retruns?\")\n",
        "        ]\n",
        "    }\n",
        ")\n",
        "final_response"
      ]
    },
    {
      "cell_type": "code",
      "execution_count": 21,
      "metadata": {
        "id": "6zjRgjamRiKN"
      },
      "outputs": [
        {
          "data": {
            "text/plain": [
              "{'messages': [HumanMessage(content='what is a S&P 500 index retruns and compare it with factor roator index?'),\n",
              "  HumanMessage(content='I apologize, but there seems to have been a mistake in retrieving information specifically about the \"Factor Rotator Index.\" Unfortunately, I am unable to provide the comparison between the S&P 500 index returns and the Factor Rotator Index without having information about the latter.\\n\\nThe Factor Rotator Index is not a standard financial index like the S&P 500, and may refer to a specific factor-based strategy or product offered by a financial institution. Factor investing involves targeting specific drivers of return, such as value, momentum, size, volatility, and quality. A Factor Rotator Index would typically aim to capitalize on the performance of these factors and rotate among them based on certain criteria.\\n\\nTo compare the S&P 500 index returns with the Factor Rotator Index, one would need to have performance data on the Factor Rotator Index, including its annual returns, risk characteristics, and the factors it targets. This would allow for an analysis of how the two indices perform relative to each other over time.\\n\\nIf you have a specific document or source that describes the Factor Rotator Index, I could provide a comparison based on that information. Otherwise, you would need to consult financial databases or the institution offering the Factor Rotator Index for the relevant data.', name='simple_retriever'),\n",
              "  HumanMessage(content='The S&P 500 index returns vary year by year, reflecting the aggregate performance of the 500 largest publicly traded companies in the United States. Historically, the average annual return of the S&P 500, including reinvested dividends, has been around 7-10% after adjusting for inflation. However, please note that this is a long-term average and actual yearly returns can deviate significantly from this figure. For instance, in 2021, the S&P 500 had an annual return of approximately 26.89%.\\n\\nRegarding the comparison with the \"Factor Rotator Index,\" I do not currently have specific information on this index to provide a comparison. The Factor Rotator Index is not a standard index like the S&P 500, and it would typically refer to an investment strategy that rotates among different factors such as value, momentum, size, and quality based on certain criteria. Without specific data on the Factor Rotator Index\\'s performance, it is not possible to make a direct comparison.\\n\\nTo compare the S&P 500 index returns with the Factor Rotator Index, one would need detailed performance data on the latter, including its annual returns, risk characteristics, and the investment factors it targets. This data might be available through financial databases, the financial institution offering the Factor Rotator Index, or investment research reports.', name='simple_retriever')],\n",
              " 'next': 'FINISH'}"
            ]
          },
          "execution_count": 21,
          "metadata": {},
          "output_type": "execute_result"
        }
      ],
      "source": [
        "final_response = graph.invoke(\n",
        "    {\n",
        "        \"messages\": [\n",
        "            HumanMessage(\n",
        "                content=\"what is a S&P 500 index retruns and compare it with factor roator index?\")\n",
        "        ]\n",
        "    }\n",
        ")\n",
        "final_response"
      ]
    },
    {
      "cell_type": "code",
      "execution_count": null,
      "metadata": {
        "id": "tl7prApERiMl"
      },
      "outputs": [],
      "source": []
    },
    {
      "cell_type": "code",
      "execution_count": null,
      "metadata": {
        "id": "Nvlws_y8RiQQ"
      },
      "outputs": [],
      "source": []
    },
    {
      "cell_type": "code",
      "execution_count": null,
      "metadata": {
        "id": "bhW-wd2Olh6H"
      },
      "outputs": [],
      "source": []
    }
  ],
  "metadata": {
    "colab": {
      "provenance": []
    },
    "kernelspec": {
      "display_name": "Python 3",
      "name": "python3"
    },
    "language_info": {
      "codemirror_mode": {
        "name": "ipython",
        "version": 3
      },
      "file_extension": ".py",
      "mimetype": "text/x-python",
      "name": "python",
      "nbconvert_exporter": "python",
      "pygments_lexer": "ipython3",
      "version": "3.9.0"
    }
  },
  "nbformat": 4,
  "nbformat_minor": 0
}
