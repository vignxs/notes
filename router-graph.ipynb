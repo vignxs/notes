{
  "cells": [
    {
      "cell_type": "markdown",
      "metadata": {
        "id": "E5TwMbBvpk4K"
      },
      "source": [
        "# 02. Learning LangGraph - Chat Executor"
      ]
    },
    {
      "cell_type": "code",
      "execution_count": 18,
      "metadata": {
        "colab": {
          "base_uri": "https://localhost:8080/"
        },
        "id": "AAoQEqlXGrWi",
        "outputId": "95956980-2b89-4e80-9850-122d6d34ed23"
      },
      "outputs": [
        {
          "name": "stderr",
          "output_type": "stream",
          "text": [
            "WARNING: You are using pip version 20.2.3; however, version 24.0 is available.\n",
            "You should consider upgrading via the 'c:\\users\\hrint\\documents\\ai-poc's\\ai\\scripts\\python.exe -m pip install --upgrade pip' command.\n"
          ]
        }
      ],
      "source": [
        "!pip install --quiet -U langchain langchain_openai langgraph langchainhub langchain_experimental"
      ]
    },
    {
      "cell_type": "markdown",
      "metadata": {
        "id": "BL-NMZ7ve3Sl"
      },
      "source": [
        "modified from https://github.com/langchain-ai/langgraph/blob/main/examples/chat_agent_executor_with_function_calling/base.ipynb"
      ]
    },
    {
      "cell_type": "code",
      "execution_count": null,
      "metadata": {
        "id": "guac0Zh7Gz4Q"
      },
      "outputs": [],
      "source": []
    },
    {
      "cell_type": "markdown",
      "metadata": {
        "id": "nGkci88EkVwj"
      },
      "source": [
        "## The model"
      ]
    },
    {
      "cell_type": "code",
      "execution_count": 20,
      "metadata": {
        "id": "58MBHiikkQDb"
      },
      "outputs": [],
      "source": [
        "from langchain_openai import ChatOpenAI\n",
        "\n",
        "model = ChatOpenAI(temperature=0, streaming=True)"
      ]
    },
    {
      "cell_type": "markdown",
      "metadata": {
        "id": "2_I3howTkdUw"
      },
      "source": [
        "## Tools"
      ]
    },
    {
      "cell_type": "code",
      "execution_count": 21,
      "metadata": {
        "id": "OLeIVeaEJltj"
      },
      "outputs": [],
      "source": [
        "import random\n",
        "from langgraph.prebuilt import ToolExecutor\n",
        "from langchain_core.tools import tool\n",
        "\n",
        "\n",
        "# dummy output\n",
        "spglobal_desc = \"\"\"The annual return of the S&P 500 index can vary significantly from year to year, reflecting the performance of the 500 largest companies listed on stock exchanges in the United States. Historically, the average annual return of the S&P 500, including dividends, has been around 7-10% after adjusting for inflation. However, this average includes periods of significant growth as well as periods of decline.\\n\\nTo give you a specific figure for a particular year, I would need the year in question. Since my knowledge is up to date only until early 2023, I can provide information up until the end of 2022. For example, the annual return for the S&P 500 in 2021 was approximately 26.89%, which was an exceptional year for the index.\\n\\nFor the most current annual return figures, you would need to look up the latest financial data or consult financial news sources that provide updates on the S&P 500's performance. Keep in mind that past performance is not indicative of future results, and investing in the stock market always carries risk.\"\"\"\n",
        "\n",
        "@tool(\"simple_retriever\", return_direct=True)\n",
        "def simple_retrieval_tool(input: str) -> str:\n",
        "    \"\"\"Returns the answer based on a single document\"\"\"\n",
        "    return spglobal_desc\n",
        "\n",
        "\n",
        "@tool(\"multi_doc_retriever\", return_direct=True)\n",
        "def multi_doc_retrieval_tool(input: str) -> str:\n",
        "    \"\"\"Returns the answer based on information from multiple documents\"\"\"\n",
        "    return spglobal_desc\n",
        "\n",
        "\n",
        "@tool(\"lower_case\", return_direct=True)\n",
        "def to_lower_case(input: str) -> str:\n",
        "  \"\"\"Returns the input as all lower case.\"\"\"\n",
        "  return input.lower()\n",
        "\n",
        "\n",
        "@tool(\"random_number\", return_direct=True)\n",
        "def random_number_maker(input: str) -> str:\n",
        "    \"\"\"Returns a random number between 0-100.\"\"\"\n",
        "    return random.randint(0, 100)\n",
        "\n",
        "\n",
        "tools = [simple_retrieval_tool, multi_doc_retrieval_tool,\n",
        "         random_number_maker, to_lower_case]\n",
        "\n",
        "\n",
        "tool_executor = ToolExecutor(tools)"
      ]
    },
    {
      "cell_type": "code",
      "execution_count": 22,
      "metadata": {
        "id": "IQkcYH78mRmk"
      },
      "outputs": [],
      "source": [
        "from langgraph.prebuilt.tool_executor import ToolExecutor\n",
        "\n",
        "tool_executor = ToolExecutor(tools)"
      ]
    },
    {
      "cell_type": "code",
      "execution_count": 23,
      "metadata": {
        "id": "aqJWD8X1ke5q"
      },
      "outputs": [],
      "source": [
        "from langchain.tools.render import format_tool_to_openai_function\n",
        "\n",
        "functions = [format_tool_to_openai_function(t) for t in tools]\n",
        "model = model.bind_functions(functions)"
      ]
    },
    {
      "cell_type": "markdown",
      "metadata": {
        "id": "DRyUkY3cktGP"
      },
      "source": [
        "## AgentState"
      ]
    },
    {
      "cell_type": "code",
      "execution_count": 24,
      "metadata": {
        "id": "I1H-xbWNkpSv"
      },
      "outputs": [],
      "source": [
        "from typing import TypedDict, Annotated, Sequence\n",
        "import operator\n",
        "from langchain_core.messages import BaseMessage\n",
        "\n",
        "\n",
        "class AgentState(TypedDict):\n",
        "    messages: Annotated[Sequence[BaseMessage], operator.add]"
      ]
    },
    {
      "cell_type": "markdown",
      "metadata": {
        "id": "FbQtOmzQk27f"
      },
      "source": [
        "## Nodes"
      ]
    },
    {
      "cell_type": "code",
      "execution_count": 25,
      "metadata": {
        "id": "2HoxaGZbkvi5"
      },
      "outputs": [],
      "source": [
        "from langchain_core.agents import AgentFinish\n",
        "from langgraph.prebuilt import ToolInvocation\n",
        "import json\n",
        "from langchain_core.messages import FunctionMessage\n",
        "\n",
        "# Define the function that determines whether to continue or not\n",
        "def should_continue(state):\n",
        "    messages = state['messages']\n",
        "    last_message = messages[-1]\n",
        "    # If there is no function call, then we finish\n",
        "    if \"function_call\" not in last_message.additional_kwargs:\n",
        "        return \"end\"\n",
        "    # Otherwise if there is, we continue\n",
        "    else:\n",
        "        return \"continue\"\n",
        "\n",
        "# Define the function that calls the model\n",
        "def call_model(state):\n",
        "    messages = state['messages']\n",
        "    response = model.invoke(messages)\n",
        "    # We return a list, because this will get added to the existing list\n",
        "    return {\"messages\": [response]}\n",
        "\n",
        "# Define the function to execute tools\n",
        "def call_tool(state):\n",
        "    messages = state['messages']\n",
        "    # Based on the continue condition\n",
        "    # we know the last message involves a function call\n",
        "    last_message = messages[-1]\n",
        "    # We construct an ToolInvocation from the function_call\n",
        "    action = ToolInvocation(\n",
        "        tool=last_message.additional_kwargs[\"function_call\"][\"name\"],\n",
        "        tool_input=json.loads(last_message.additional_kwargs[\"function_call\"][\"arguments\"]),\n",
        "    )\n",
        "    print(f\"The agent action is {action}\")\n",
        "    # We call the tool_executor and get back a response\n",
        "    response = tool_executor.invoke(action)\n",
        "    print(f\"The tool result is: {response}\")\n",
        "    # We use the response to create a FunctionMessage\n",
        "    function_message = FunctionMessage(content=str(response), name=action.tool)\n",
        "    # We return a list, because this will get added to the existing list\n",
        "    return {\"messages\": [function_message]}"
      ]
    },
    {
      "cell_type": "markdown",
      "metadata": {
        "id": "UvaLZp3jlM9F"
      },
      "source": [
        "## Graph"
      ]
    },
    {
      "cell_type": "code",
      "execution_count": 26,
      "metadata": {
        "id": "2Vxw2TOClGYm"
      },
      "outputs": [],
      "source": [
        "from langgraph.graph import StateGraph, END\n",
        "# Define a new graph\n",
        "workflow = StateGraph(AgentState)\n",
        "\n",
        "# Define the two nodes we will cycle between\n",
        "workflow.add_node(\"agent\", call_model)\n",
        "workflow.add_node(\"action\", call_tool)\n",
        "\n",
        "# Set the entrypoint as `agent` where we start\n",
        "workflow.set_entry_point(\"agent\")\n",
        "\n",
        "# We now add a conditional edge\n",
        "workflow.add_conditional_edges(\n",
        "    # First, we define the start node. We use `agent`.\n",
        "    # This means these are the edges taken after the `agent` node is called.\n",
        "    \"agent\",\n",
        "    # Next, we pass in the function that will determine which node is called next.\n",
        "    should_continue,\n",
        "    # Finally we pass in a mapping.\n",
        "    # The keys are strings, and the values are other nodes.\n",
        "    # END is a special node marking that the graph should finish.\n",
        "    # What will happen is we will call `should_continue`, and then the output of that\n",
        "    # will be matched against the keys in this mapping.\n",
        "    # Based on which one it matches, that node will then be called.\n",
        "    {\n",
        "        # If `tools`, then we call the tool node.\n",
        "        \"continue\": \"action\",\n",
        "        # Otherwise we finish.\n",
        "        \"end\": END\n",
        "    }\n",
        ")\n",
        "\n",
        "# We now add a normal edge from `tools` to `agent`.\n",
        "# This means that after `tools` is called, `agent` node is called next.\n",
        "workflow.add_edge('action', 'agent')\n",
        "\n",
        "# Finally, we compile it!\n",
        "# This compiles it into a LangChain Runnable,\n",
        "# meaning you can use it as you would any other runnable\n",
        "app = workflow.compile()"
      ]
    },
    {
      "cell_type": "markdown",
      "metadata": {
        "id": "AAVFBk3GlY5-"
      },
      "source": [
        "## Run it"
      ]
    },
    {
      "cell_type": "code",
      "execution_count": 27,
      "metadata": {
        "colab": {
          "base_uri": "https://localhost:8080/"
        },
        "id": "ELSoxDK_lRO_",
        "outputId": "5882db0a-eeea-4094-ee36-d21ca8d0e46c"
      },
      "outputs": [
        {
          "name": "stdout",
          "output_type": "stream",
          "text": [
            "The agent action is tool='random_number' tool_input={'input': ''}\n",
            "The tool result is: 29\n",
            "The agent action is tool='lower_case' tool_input={'input': 'twenty nine'}\n",
            "The tool result is: twenty nine\n"
          ]
        },
        {
          "data": {
            "text/plain": [
              "{'messages': [SystemMessage(content='you are a helpful assistant'),\n",
              "  HumanMessage(content='give me a random number and then write in words and make it lower case'),\n",
              "  AIMessage(content='', additional_kwargs={'function_call': {'arguments': '{\"input\":\"\"}', 'name': 'random_number'}}),\n",
              "  FunctionMessage(content='29', name='random_number'),\n",
              "  AIMessage(content='', additional_kwargs={'function_call': {'arguments': '{\"input\":\"twenty nine\"}', 'name': 'lower_case'}}),\n",
              "  FunctionMessage(content='twenty nine', name='lower_case'),\n",
              "  AIMessage(content='The random number is 29, and in words, it is \"twenty nine\" in lower case.')]}"
            ]
          },
          "execution_count": 27,
          "metadata": {},
          "output_type": "execute_result"
        }
      ],
      "source": [
        "from langchain_core.messages import HumanMessage, SystemMessage\n",
        "# inputs = {\"input\": \"give me a random number and then write in words and make it lower case\", \"chat_history\": []}\n",
        "\n",
        "system_message = SystemMessage(content=\"you are a helpful assistant\")\n",
        "user_01 = HumanMessage(content=\"give me a random number and then write in words and make it lower case\")\n",
        "# user_01 = HumanMessage(content=\"plear write 'Merlion' in lower case\")\n",
        "# user_01 = HumanMessage(content=\"what is a Merlion?\")\n",
        "\n",
        "inputs = {\"messages\": [system_message,user_01]}\n",
        "\n",
        "app.invoke(inputs)"
      ]
    },
    {
      "cell_type": "code",
      "execution_count": 28,
      "metadata": {
        "colab": {
          "base_uri": "https://localhost:8080/"
        },
        "id": "bhW-wd2Olh6H",
        "outputId": "30b3aa2b-f74a-4956-ca91-39b5caf8d9ee"
      },
      "outputs": [
        {
          "name": "stdout",
          "output_type": "stream",
          "text": [
            "The agent action is tool='lower_case' tool_input={'input': 'Merlion'}\n",
            "The tool result is: merlion\n"
          ]
        },
        {
          "data": {
            "text/plain": [
              "{'messages': [SystemMessage(content='you are a helpful assistant'),\n",
              "  HumanMessage(content=\"plear write 'Merlion' in lower case\"),\n",
              "  AIMessage(content='', additional_kwargs={'function_call': {'arguments': '{\"input\":\"Merlion\"}', 'name': 'lower_case'}}),\n",
              "  FunctionMessage(content='merlion', name='lower_case'),\n",
              "  AIMessage(content='The word \"Merlion\" in lower case is \"merlion\".')]}"
            ]
          },
          "execution_count": 28,
          "metadata": {},
          "output_type": "execute_result"
        }
      ],
      "source": [
        "from langchain_core.messages import HumanMessage, SystemMessage\n",
        "# inputs = {\"input\": \"give me a random number and then write in words and make it lower case\", \"chat_history\": []}\n",
        "\n",
        "system_message = SystemMessage(content=\"you are a helpful assistant\")\n",
        "# user_01 = HumanMessage(content=\"give me a random number and then write in words and make it lower case\")\n",
        "user_01 = HumanMessage(content=\"plear write 'Merlion' in lower case\")\n",
        "# user_01 = HumanMessage(content=\"what is a Merlion?\")\n",
        "\n",
        "inputs = {\"messages\": [system_message,user_01]}\n",
        "\n",
        "app.invoke(inputs)"
      ]
    },
    {
      "cell_type": "code",
      "execution_count": 30,
      "metadata": {
        "colab": {
          "base_uri": "https://localhost:8080/"
        },
        "id": "zdwMgR5Ag6pi",
        "outputId": "f107fe06-29e5-4686-de05-2612956e9fef"
      },
      "outputs": [
        {
          "name": "stdout",
          "output_type": "stream",
          "text": [
            "The agent action is tool='simple_retriever' tool_input={'input': 'S&P 500 index returns'}\n",
            "The tool result is: The annual return of the S&P 500 index can vary significantly from year to year, reflecting the performance of the 500 largest companies listed on stock exchanges in the United States. Historically, the average annual return of the S&P 500, including dividends, has been around 7-10% after adjusting for inflation. However, this average includes periods of significant growth as well as periods of decline.\n",
            "\n",
            "To give you a specific figure for a particular year, I would need the year in question. Since my knowledge is up to date only until early 2023, I can provide information up until the end of 2022. For example, the annual return for the S&P 500 in 2021 was approximately 26.89%, which was an exceptional year for the index.\n",
            "\n",
            "For the most current annual return figures, you would need to look up the latest financial data or consult financial news sources that provide updates on the S&P 500's performance. Keep in mind that past performance is not indicative of future results, and investing in the stock market always carries risk.\n"
          ]
        },
        {
          "data": {
            "text/plain": [
              "{'messages': [SystemMessage(content='you are a helpful assistant'),\n",
              "  HumanMessage(content='what is a S&P 500 index retruns?'),\n",
              "  AIMessage(content='', additional_kwargs={'function_call': {'arguments': '{\"input\":\"S&P 500 index returns\"}', 'name': 'simple_retriever'}}),\n",
              "  FunctionMessage(content=\"The annual return of the S&P 500 index can vary significantly from year to year, reflecting the performance of the 500 largest companies listed on stock exchanges in the United States. Historically, the average annual return of the S&P 500, including dividends, has been around 7-10% after adjusting for inflation. However, this average includes periods of significant growth as well as periods of decline.\\n\\nTo give you a specific figure for a particular year, I would need the year in question. Since my knowledge is up to date only until early 2023, I can provide information up until the end of 2022. For example, the annual return for the S&P 500 in 2021 was approximately 26.89%, which was an exceptional year for the index.\\n\\nFor the most current annual return figures, you would need to look up the latest financial data or consult financial news sources that provide updates on the S&P 500's performance. Keep in mind that past performance is not indicative of future results, and investing in the stock market always carries risk.\", name='simple_retriever'),\n",
              "  AIMessage(content=\"The annual return of the S&P 500 index can vary significantly from year to year, reflecting the performance of the 500 largest companies listed on stock exchanges in the United States. Historically, the average annual return of the S&P 500, including dividends, has been around 7-10% after adjusting for inflation. However, this average includes periods of significant growth as well as periods of decline.\\n\\nTo give you a specific figure for a particular year, I would need the year in question. Since my knowledge is up to date only until early 2023, I can provide information up until the end of 2022. For example, the annual return for the S&P 500 in 2021 was approximately 26.89%, which was an exceptional year for the index.\\n\\nFor the most current annual return figures, you would need to look up the latest financial data or consult financial news sources that provide updates on the S&P 500's performance. Keep in mind that past performance is not indicative of future results, and investing in the stock market always carries risk.\")]}"
            ]
          },
          "execution_count": 30,
          "metadata": {},
          "output_type": "execute_result"
        }
      ],
      "source": [
        "from langchain_core.messages import HumanMessage, SystemMessage\n",
        "# inputs = {\"input\": \"give me a random number and then write in words and make it lower case\", \"chat_history\": []}\n",
        "\n",
        "system_message = SystemMessage(content=\"you are a helpful assistant\")\n",
        "# user_01 = HumanMessage(content=\"give me a random number and then write in words and make it lower case\")\n",
        "# user_01 = HumanMessage(content=\"plear write 'Merlion' in lower case\")\n",
        "user_01 = HumanMessage(content=\"what is a S&P 500 index retruns?\")\n",
        "\n",
        "inputs = {\"messages\": [system_message,user_01]}\n",
        "\n",
        "app.invoke(inputs)"
      ]
    },
    {
      "cell_type": "code",
      "execution_count": 31,
      "metadata": {
        "id": "t6nGDuI6g-Dg"
      },
      "outputs": [
        {
          "name": "stdout",
          "output_type": "stream",
          "text": [
            "The agent action is tool='multi_doc_retriever' tool_input={'input': 'S&P 500 index returns and factor rotation index comparison'}\n",
            "The tool result is: The annual return of the S&P 500 index can vary significantly from year to year, reflecting the performance of the 500 largest companies listed on stock exchanges in the United States. Historically, the average annual return of the S&P 500, including dividends, has been around 7-10% after adjusting for inflation. However, this average includes periods of significant growth as well as periods of decline.\n",
            "\n",
            "To give you a specific figure for a particular year, I would need the year in question. Since my knowledge is up to date only until early 2023, I can provide information up until the end of 2022. For example, the annual return for the S&P 500 in 2021 was approximately 26.89%, which was an exceptional year for the index.\n",
            "\n",
            "For the most current annual return figures, you would need to look up the latest financial data or consult financial news sources that provide updates on the S&P 500's performance. Keep in mind that past performance is not indicative of future results, and investing in the stock market always carries risk.\n"
          ]
        },
        {
          "data": {
            "text/plain": [
              "{'messages': [SystemMessage(content='you are a helpful assistant'),\n",
              "  HumanMessage(content='what is a S&P 500 index retruns and compare it with factor roator index?'),\n",
              "  AIMessage(content='', additional_kwargs={'function_call': {'arguments': '{\"input\":\"S&P 500 index returns and factor rotation index comparison\"}', 'name': 'multi_doc_retriever'}}),\n",
              "  FunctionMessage(content=\"The annual return of the S&P 500 index can vary significantly from year to year, reflecting the performance of the 500 largest companies listed on stock exchanges in the United States. Historically, the average annual return of the S&P 500, including dividends, has been around 7-10% after adjusting for inflation. However, this average includes periods of significant growth as well as periods of decline.\\n\\nTo give you a specific figure for a particular year, I would need the year in question. Since my knowledge is up to date only until early 2023, I can provide information up until the end of 2022. For example, the annual return for the S&P 500 in 2021 was approximately 26.89%, which was an exceptional year for the index.\\n\\nFor the most current annual return figures, you would need to look up the latest financial data or consult financial news sources that provide updates on the S&P 500's performance. Keep in mind that past performance is not indicative of future results, and investing in the stock market always carries risk.\", name='multi_doc_retriever'),\n",
              "  AIMessage(content=\"The annual return of the S&P 500 index can vary significantly from year to year, reflecting the performance of the 500 largest companies listed on stock exchanges in the United States. Historically, the average annual return of the S&P 500, including dividends, has been around 7-10% after adjusting for inflation. However, this average includes periods of significant growth as well as periods of decline.\\n\\nTo give you a specific figure for a particular year, I would need the year in question. Since my knowledge is up to date only until early 2023, I can provide information up until the end of 2022. For example, the annual return for the S&P 500 in 2021 was approximately 26.89%, which was an exceptional year for the index.\\n\\nAs for the factor rotation index, I don't have specific information on a particular index with that name. Factor rotation strategies typically involve dynamically adjusting exposure to different factors based on market conditions. These strategies aim to outperform traditional buy-and-hold approaches by rotating between factors such as value, growth, momentum, and others.\\n\\nIf you have a specific factor rotation index in mind or more details about it, please provide additional information so I can offer a more tailored comparison between the S&P 500 index and the factor rotation index.\")]}"
            ]
          },
          "execution_count": 31,
          "metadata": {},
          "output_type": "execute_result"
        }
      ],
      "source": [
        "from langchain_core.messages import HumanMessage, SystemMessage\n",
        "# inputs = {\"input\": \"give me a random number and then write in words and make it lower case\", \"chat_history\": []}\n",
        "\n",
        "system_message = SystemMessage(content=\"you are a helpful assistant\")\n",
        "# user_01 = HumanMessage(content=\"give me a random number and then write in words and make it lower case\")\n",
        "# user_01 = HumanMessage(content=\"plear write 'Merlion' in lower case\")\n",
        "user_01 = HumanMessage(content=\"what is a S&P 500 index retruns and compare it with factor roator index?\")\n",
        "\n",
        "inputs = {\"messages\": [system_message, user_01]}\n",
        "\n",
        "app.invoke(inputs)"
      ]
    }
  ],
  "metadata": {
    "colab": {
      "provenance": []
    },
    "kernelspec": {
      "display_name": "Python 3",
      "name": "python3"
    },
    "language_info": {
      "codemirror_mode": {
        "name": "ipython",
        "version": 3
      },
      "file_extension": ".py",
      "mimetype": "text/x-python",
      "name": "python",
      "nbconvert_exporter": "python",
      "pygments_lexer": "ipython3",
      "version": "3.9.0"
    }
  },
  "nbformat": 4,
  "nbformat_minor": 0
}
